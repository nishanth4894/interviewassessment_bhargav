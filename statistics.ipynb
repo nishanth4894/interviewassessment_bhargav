{
 "cells": [
  {
   "cell_type": "markdown",
   "id": "bed282f9",
   "metadata": {},
   "source": [
    "Q-1. A university wants to understand the relationship between the SAT scores of its\n",
    "applicants and their college GPA. They collect data on 500 students, including their SAT\n",
    "scores (out of 1600) and their college GPA (on a 4.0 scale). They find that the correlation\n",
    "coefficient between SAT scores and college GPA is 0.7. What does this correlation\n",
    "coefficient indicate about the relationship between SAT scores and college GPA?"
   ]
  },
  {
   "cell_type": "code",
   "execution_count": 1,
   "id": "6d3ecdd9",
   "metadata": {},
   "outputs": [],
   "source": [
    "#============================================================================================================="
   ]
  },
  {
   "cell_type": "markdown",
   "id": "2085771b",
   "metadata": {},
   "source": [
    "Answer: The correlation between SAT scores and GPA is 0.7 which indicates that theses attributes are in a strong positive correlation which means if the student has good GPA he gets good SAT scores and vice-versa.\n",
    "\n",
    "\n",
    "The correlation coefficient ranges between -1 to +1, -1 indicates strong negative correlation, +1 indicates strong positive correlation, 0 indicates no relation"
   ]
  },
  {
   "cell_type": "markdown",
   "id": "7db974d7",
   "metadata": {},
   "source": [
    "Q-2. Consider a dataset containing the heights (in centimeters) of 1000 individuals. The\n",
    "mean height is 170 cm with a standard deviation of 10 cm. The dataset is approximately\n",
    "normally distributed, and its skewness is approximately zero. Based on this information,\n",
    "answer the following questions:\n",
    "\n",
    "a. What percentage of individuals in the dataset have heights between 160 cm\n",
    "and 180 cm?\n",
    "\n",
    "b. If we randomly select 100 individuals from the dataset, what is the probability\n",
    "that their average height is greater than 175 cm?\n",
    "\n",
    "c. Assuming the dataset follows a normal distribution, what is the z-score\n",
    "corresponding to a height of 185 cm?\n",
    "\n",
    "d. We know that 5% of the dataset has heights below a certain value. What is\n",
    "the approximate height corresponding to this threshold?\n",
    "\n",
    "e. Calculate the coefficient of variation (CV) for the dataset.\n",
    "\n",
    "f. Calculate the skewness of the dataset and interpret the result."
   ]
  },
  {
   "cell_type": "code",
   "execution_count": 3,
   "id": "9d5d2cda",
   "metadata": {},
   "outputs": [],
   "source": [
    "n=1000\n",
    "mu = 170\n",
    "sd=10"
   ]
  },
  {
   "cell_type": "code",
   "execution_count": 7,
   "id": "7952b4d0",
   "metadata": {},
   "outputs": [
    {
     "name": "stdout",
     "output_type": "stream",
     "text": [
      "-1.0\n",
      "1.0\n"
     ]
    }
   ],
   "source": [
    "# a. What percentage of individuals in the dataset have heights between 160 cm and 180 cm?\n",
    "x1 = 160\n",
    "x2=180\n",
    "z1 = (x1-mu)/sd #lower bound\n",
    "print(z1)\n",
    "z2 = (x2-mu)/sd #higher bound\n",
    "print(z2)"
   ]
  },
  {
   "cell_type": "code",
   "execution_count": 8,
   "id": "807ae262",
   "metadata": {},
   "outputs": [
    {
     "name": "stdout",
     "output_type": "stream",
     "text": [
      "percentage of individuals between 160cm and 180cm: 68.26\n"
     ]
    }
   ],
   "source": [
    "# The decision boundary lies between -1.0 and 1.0 sd\n",
    "# As the data is normally distributed it's 68%, however let's calculate using z-table\n",
    "\n",
    "#from z-table -1 is 0.1587 and +1 is 0.8413, the data between 0.1587 and 0.8413 is the percentage of individuals between 160cm and 180cm\n",
    "\n",
    "z1 = 0.1587\n",
    "z2 = 0.8413\n",
    "\n",
    "ans = (z2-z1)*100\n",
    "print(f\"percentage of individuals between 160cm and 180cm:\", ans)"
   ]
  },
  {
   "cell_type": "markdown",
   "id": "2cdf8df4",
   "metadata": {},
   "source": [
    "b. If we randomly select 100 individuals from the dataset, what is the probability that their average height is greater than 175 cm?"
   ]
  },
  {
   "cell_type": "code",
   "execution_count": 9,
   "id": "691a6d41",
   "metadata": {},
   "outputs": [],
   "source": [
    "# one-sample z-test, as population sd is given and n>=30\n",
    "\n",
    "#ho=mu=170\n",
    "#h1=mu!=170 (mu>170)\n"
   ]
  },
  {
   "cell_type": "code",
   "execution_count": 11,
   "id": "fe929b26",
   "metadata": {},
   "outputs": [],
   "source": [
    "#z-test = (xbar - mu)/(sigma/root(n))\n",
    "import math\n",
    "xbar = 175\n",
    "mu = 170\n",
    "n = 100\n",
    "sd = 10"
   ]
  },
  {
   "cell_type": "code",
   "execution_count": 15,
   "id": "0623479d",
   "metadata": {},
   "outputs": [],
   "source": [
    "z = (175-170)/(10/math.sqrt(100))"
   ]
  },
  {
   "cell_type": "code",
   "execution_count": 16,
   "id": "d6794b21",
   "metadata": {},
   "outputs": [
    {
     "data": {
      "text/plain": [
       "5.0"
      ]
     },
     "execution_count": 16,
     "metadata": {},
     "output_type": "execute_result"
    }
   ],
   "source": [
    "z #z-test =5, which means it falls beyond 3 sd hence it's a very small value"
   ]
  },
  {
   "cell_type": "markdown",
   "id": "ee8a84e5",
   "metadata": {},
   "source": [
    "c. Assuming the dataset follows a normal distribution, what is the z-score\n",
    "corresponding to a height of 185 cm?"
   ]
  },
  {
   "cell_type": "code",
   "execution_count": 21,
   "id": "d912c3e9",
   "metadata": {},
   "outputs": [],
   "source": [
    "xbar=185\n",
    "mu=170\n",
    "sd=10"
   ]
  },
  {
   "cell_type": "code",
   "execution_count": 22,
   "id": "92b9ffbb",
   "metadata": {},
   "outputs": [
    {
     "name": "stdout",
     "output_type": "stream",
     "text": [
      "1.5\n"
     ]
    }
   ],
   "source": [
    "z_test = (xbar-mu)/(sd)\n",
    "print(z_test)"
   ]
  },
  {
   "cell_type": "code",
   "execution_count": 23,
   "id": "2b8f07f4",
   "metadata": {},
   "outputs": [],
   "source": [
    "#z-score at z-test=1.5 is 0.9332"
   ]
  },
  {
   "cell_type": "markdown",
   "id": "ec4593fc",
   "metadata": {},
   "source": [
    "d. We know that 5% of the dataset has heights below a certain value. What is\n",
    "the approximate height corresponding to this threshold?"
   ]
  },
  {
   "cell_type": "code",
   "execution_count": 24,
   "id": "a7715bdb",
   "metadata": {},
   "outputs": [],
   "source": [
    "#z-test value is %5 which is given, now let's check the z-score at 5%, from  z-table it's approximately -1.64\n",
    "\n",
    "#z-test = (xbar-mu)/sigma, here z-score = -1.64, xbar = not given, sigma(sd) = 10"
   ]
  },
  {
   "cell_type": "code",
   "execution_count": 28,
   "id": "2e86fae2",
   "metadata": {},
   "outputs": [
    {
     "name": "stdout",
     "output_type": "stream",
     "text": [
      "The approximate height corresponding to the threshold 5% is: 153.6\n"
     ]
    }
   ],
   "source": [
    "# -1.64 = (x-170)/(10)\n",
    "\n",
    "x = (-1.64)*(10)+(170)\n",
    "print(f\"The approximate height corresponding to the threshold 5% is:\", x)"
   ]
  },
  {
   "cell_type": "markdown",
   "id": "52a96730",
   "metadata": {},
   "source": [
    "e. Calculate the coefficient of variation (CV) for the dataset."
   ]
  },
  {
   "cell_type": "code",
   "execution_count": 30,
   "id": "8179af47",
   "metadata": {},
   "outputs": [
    {
     "name": "stdout",
     "output_type": "stream",
     "text": [
      "The coefficient of variation (CV) for the dataset is: 5.88235294117647\n"
     ]
    }
   ],
   "source": [
    "# CV = (sigma/mu)*100 sigma=population sd, mu=population mean\n",
    "\n",
    "sd = 10\n",
    "mu = 170\n",
    "\n",
    "cv = (sd/mu)*100\n",
    "\n",
    "print(f\"The coefficient of variation (CV) for the dataset is:\",cv )"
   ]
  },
  {
   "cell_type": "markdown",
   "id": "a3a333fc",
   "metadata": {},
   "source": [
    "f. Calculate the skewness of the dataset and interpret the result."
   ]
  },
  {
   "cell_type": "code",
   "execution_count": 32,
   "id": "0e4da72f",
   "metadata": {},
   "outputs": [
    {
     "name": "stdout",
     "output_type": "stream",
     "text": [
      "The skewness is  0.0  as the data is normally distributed\n"
     ]
    }
   ],
   "source": [
    "# skewness=(3*(mean-median))/standard deviation\n",
    "\n",
    "#As the data is normally distributed, the mean=median=mode\n",
    "\n",
    "mean = 170\n",
    "median = 170\n",
    "sd = 10\n",
    "\n",
    "skewness = (3*(170-170))/10\n",
    "print(f\"The skewness is \",skewness,\" as the data is normally distributed\")"
   ]
  },
  {
   "cell_type": "markdown",
   "id": "7eb4439d",
   "metadata": {},
   "source": [
    "Q-3. Consider the ‘Blood Pressure Before’ and ‘Blood Pressure After’ columns from the\n",
    "data and calculate the following\n",
    "\n",
    "https://drive.google.com/file/d/1mCjtYHiX--mMUjicuaP2gH3k-SnFxt8Y/view?usp=share_\n",
    "\n",
    "a. Measure the dispersion in both and interpret the results.\n",
    "\n",
    "b. Calculate mean and 5% confidence interval and plot it in a graph\n",
    "\n",
    "c. Calculate the Mean absolute deviation and Standard deviation and interpret\n",
    "the results.\n",
    "\n",
    "d. Calculate the correlation coefficient and check the significance of it at 1% level\n",
    "of significance."
   ]
  },
  {
   "cell_type": "code",
   "execution_count": 33,
   "id": "453ea9c1",
   "metadata": {},
   "outputs": [
    {
     "data": {
      "text/html": [
       "<div>\n",
       "<style scoped>\n",
       "    .dataframe tbody tr th:only-of-type {\n",
       "        vertical-align: middle;\n",
       "    }\n",
       "\n",
       "    .dataframe tbody tr th {\n",
       "        vertical-align: top;\n",
       "    }\n",
       "\n",
       "    .dataframe thead th {\n",
       "        text-align: right;\n",
       "    }\n",
       "</style>\n",
       "<table border=\"1\" class=\"dataframe\">\n",
       "  <thead>\n",
       "    <tr style=\"text-align: right;\">\n",
       "      <th></th>\n",
       "      <th>Patient ID</th>\n",
       "      <th>Blood Pressure Before (mmHg)</th>\n",
       "      <th>Blood Pressure After (mmHg)</th>\n",
       "    </tr>\n",
       "  </thead>\n",
       "  <tbody>\n",
       "    <tr>\n",
       "      <th>0</th>\n",
       "      <td>1</td>\n",
       "      <td>130</td>\n",
       "      <td>120</td>\n",
       "    </tr>\n",
       "    <tr>\n",
       "      <th>1</th>\n",
       "      <td>2</td>\n",
       "      <td>142</td>\n",
       "      <td>135</td>\n",
       "    </tr>\n",
       "    <tr>\n",
       "      <th>2</th>\n",
       "      <td>3</td>\n",
       "      <td>120</td>\n",
       "      <td>118</td>\n",
       "    </tr>\n",
       "    <tr>\n",
       "      <th>3</th>\n",
       "      <td>4</td>\n",
       "      <td>135</td>\n",
       "      <td>127</td>\n",
       "    </tr>\n",
       "    <tr>\n",
       "      <th>4</th>\n",
       "      <td>5</td>\n",
       "      <td>148</td>\n",
       "      <td>140</td>\n",
       "    </tr>\n",
       "  </tbody>\n",
       "</table>\n",
       "</div>"
      ],
      "text/plain": [
       "   Patient ID   Blood Pressure Before (mmHg)   Blood Pressure After (mmHg)\n",
       "0           1                            130                           120\n",
       "1           2                            142                           135\n",
       "2           3                            120                           118\n",
       "3           4                            135                           127\n",
       "4           5                            148                           140"
      ]
     },
     "execution_count": 33,
     "metadata": {},
     "output_type": "execute_result"
    }
   ],
   "source": [
    "import pandas as pd\n",
    "\n",
    "df = pd.read_csv(\"data.csv\")\n",
    "df.head()"
   ]
  },
  {
   "cell_type": "markdown",
   "id": "563ca4d9",
   "metadata": {},
   "source": [
    "a. Measure the dispersion in both and interpret the results."
   ]
  },
  {
   "cell_type": "code",
   "execution_count": 36,
   "id": "2e09f634",
   "metadata": {},
   "outputs": [
    {
     "name": "stdout",
     "output_type": "stream",
     "text": [
      "Before: 6.598278012275075\n",
      "After: 6.8880221025232276\n"
     ]
    }
   ],
   "source": [
    "dispersion_before = df[\" Blood Pressure Before (mmHg)\"].std() \n",
    "dispersion_after = df[\" Blood Pressure After (mmHg)\"].std()\n",
    "print(\"Before:\", dispersion_before)\n",
    "print(\"After:\", dispersion_after)"
   ]
  },
  {
   "cell_type": "code",
   "execution_count": 37,
   "id": "18625f99",
   "metadata": {},
   "outputs": [],
   "source": [
    "### The dispersion for the Blood pressure before and Blood pressure after is almost the same."
   ]
  },
  {
   "cell_type": "markdown",
   "id": "f124d38b",
   "metadata": {},
   "source": [
    "b. Calculate mean and 5% confidence interval and plot it in a graph"
   ]
  },
  {
   "cell_type": "code",
   "execution_count": 38,
   "id": "e9e611b0",
   "metadata": {},
   "outputs": [
    {
     "name": "stdout",
     "output_type": "stream",
     "text": [
      "the mean of blood pressure before: 133.91\n",
      "the mean of blood pressure after: 128.36\n"
     ]
    }
   ],
   "source": [
    "mean_before = df[' Blood Pressure Before (mmHg)'].mean()\n",
    "mean_after = df[' Blood Pressure After (mmHg)'].mean()\n",
    "\n",
    "print(f\"the mean of blood pressure before:\",mean_before)\n",
    "print(f\"the mean of blood pressure after:\",mean_after)"
   ]
  },
  {
   "cell_type": "code",
   "execution_count": 80,
   "id": "02e47c46",
   "metadata": {},
   "outputs": [],
   "source": [
    "#C.I = point Estimate (+-) margin of error\n",
    "#before bp\n",
    "\n",
    "n = len(df)\n",
    "alpha = 0.05\n",
    "import scipy.stats\n",
    "\n",
    "# To find the T critical value\n",
    "t_value = scipy.stats.t.ppf(q=1-alpha/2,df=n-2) #two-talied hence 0.05/2\n"
   ]
  },
  {
   "cell_type": "code",
   "execution_count": 81,
   "id": "9bdd2dc7",
   "metadata": {},
   "outputs": [
    {
     "name": "stdout",
     "output_type": "stream",
     "text": [
      "lower confidence interval for blood pressure before: 132.6005932029381\n",
      "higher confidence interval for blood pressure before: 135.2194067970619\n"
     ]
    }
   ],
   "source": [
    "lower_confidence_interval_before = mean_before-(t_value)*(dispersion_before/math.sqrt(n))\n",
    "higher_confidence_interval_before= mean_before+(t_value)*(dispersion_before/math.sqrt(n))\n",
    "print(f\"lower confidence interval for blood pressure before:\",lower_confidence_interval_before)\n",
    "print(f\"higher confidence interval for blood pressure before:\",higher_confidence_interval_before)"
   ]
  },
  {
   "cell_type": "code",
   "execution_count": 82,
   "id": "0325c613",
   "metadata": {},
   "outputs": [
    {
     "name": "stdout",
     "output_type": "stream",
     "text": [
      "lower confidence interval for blood pressure after: 126.9930944312171\n",
      "higher confidence interval for blood pressure after: 129.7269055687829\n"
     ]
    }
   ],
   "source": [
    "lower_confidence_interval_after = mean_after-(t_value)*(dispersion_after/math.sqrt(n))\n",
    "higher_confidence_interval_after= mean_after+(t_value)*(dispersion_after/math.sqrt(n))\n",
    "print(f\"lower confidence interval for blood pressure after:\",lower_confidence_interval_after)\n",
    "print(f\"higher confidence interval for blood pressure after:\",higher_confidence_interval_after)"
   ]
  },
  {
   "cell_type": "code",
   "execution_count": 39,
   "id": "96756bc7",
   "metadata": {},
   "outputs": [],
   "source": []
  },
  {
   "cell_type": "markdown",
   "id": "5cfc9cd4",
   "metadata": {},
   "source": [
    "c. Calculate the Mean absolute deviation and Standard deviation and interpret\n",
    "the results."
   ]
  },
  {
   "cell_type": "code",
   "execution_count": 43,
   "id": "d57b1681",
   "metadata": {},
   "outputs": [
    {
     "name": "stdout",
     "output_type": "stream",
     "text": [
      "Before (MAD): 5.7118\n",
      "After (MAD): 5.9\n",
      "Before: 6.598278012275075\n",
      "After: 6.8880221025232276\n"
     ]
    }
   ],
   "source": [
    "mad_before = df[' Blood Pressure Before (mmHg)'].mad()\n",
    "mad_after = df[' Blood Pressure After (mmHg)'].mad()\n",
    "\n",
    "print(f\"Before (MAD):\", mad_before)\n",
    "print(f\"After (MAD):\", mad_after)\n",
    "\n",
    "dispersion_before = df[\" Blood Pressure Before (mmHg)\"].std() \n",
    "dispersion_after = df[\" Blood Pressure After (mmHg)\"].std()\n",
    "print(\"Before:\", dispersion_before)\n",
    "print(\"After:\", dispersion_after)"
   ]
  },
  {
   "cell_type": "code",
   "execution_count": 44,
   "id": "aa39e891",
   "metadata": {},
   "outputs": [],
   "source": [
    "# The Mean Absolute deviation and standard deviation of before blood pressure and after blood pressure is same.\n",
    "#The standard deviation is less than mean absolute deviation because the standard deviation is calculated using squared difference whereas the mean absolute deviation is calculated on absolute difference"
   ]
  },
  {
   "cell_type": "markdown",
   "id": "d50af285",
   "metadata": {},
   "source": [
    "d. Calculate the correlation coefficient and check the significance of it at 1% level\n",
    "of significance."
   ]
  },
  {
   "cell_type": "code",
   "execution_count": 84,
   "id": "ec99b071",
   "metadata": {},
   "outputs": [
    {
     "data": {
      "text/html": [
       "<div>\n",
       "<style scoped>\n",
       "    .dataframe tbody tr th:only-of-type {\n",
       "        vertical-align: middle;\n",
       "    }\n",
       "\n",
       "    .dataframe tbody tr th {\n",
       "        vertical-align: top;\n",
       "    }\n",
       "\n",
       "    .dataframe thead th {\n",
       "        text-align: right;\n",
       "    }\n",
       "</style>\n",
       "<table border=\"1\" class=\"dataframe\">\n",
       "  <thead>\n",
       "    <tr style=\"text-align: right;\">\n",
       "      <th></th>\n",
       "      <th>Patient ID</th>\n",
       "      <th>Blood Pressure Before (mmHg)</th>\n",
       "      <th>Blood Pressure After (mmHg)</th>\n",
       "    </tr>\n",
       "  </thead>\n",
       "  <tbody>\n",
       "    <tr>\n",
       "      <th>Patient ID</th>\n",
       "      <td>1.000000</td>\n",
       "      <td>-0.000818</td>\n",
       "      <td>0.036698</td>\n",
       "    </tr>\n",
       "    <tr>\n",
       "      <th>Blood Pressure Before (mmHg)</th>\n",
       "      <td>-0.000818</td>\n",
       "      <td>1.000000</td>\n",
       "      <td>0.977949</td>\n",
       "    </tr>\n",
       "    <tr>\n",
       "      <th>Blood Pressure After (mmHg)</th>\n",
       "      <td>0.036698</td>\n",
       "      <td>0.977949</td>\n",
       "      <td>1.000000</td>\n",
       "    </tr>\n",
       "  </tbody>\n",
       "</table>\n",
       "</div>"
      ],
      "text/plain": [
       "                               Patient ID   Blood Pressure Before (mmHg)  \\\n",
       "Patient ID                       1.000000                      -0.000818   \n",
       " Blood Pressure Before (mmHg)   -0.000818                       1.000000   \n",
       " Blood Pressure After (mmHg)     0.036698                       0.977949   \n",
       "\n",
       "                                Blood Pressure After (mmHg)  \n",
       "Patient ID                                         0.036698  \n",
       " Blood Pressure Before (mmHg)                      0.977949  \n",
       " Blood Pressure After (mmHg)                       1.000000  "
      ]
     },
     "execution_count": 84,
     "metadata": {},
     "output_type": "execute_result"
    }
   ],
   "source": [
    "df.corr()"
   ]
  },
  {
   "cell_type": "code",
   "execution_count": 45,
   "id": "5607d525",
   "metadata": {},
   "outputs": [],
   "source": [
    "#correlation_coefficient\n",
    "correlation_coefficient = df[' Blood Pressure Before (mmHg)'].corr(df[' Blood Pressure After (mmHg)'])"
   ]
  },
  {
   "cell_type": "code",
   "execution_count": 46,
   "id": "31d07c93",
   "metadata": {},
   "outputs": [
    {
     "data": {
      "text/plain": [
       "0.9779485966556016"
      ]
     },
     "execution_count": 46,
     "metadata": {},
     "output_type": "execute_result"
    }
   ],
   "source": [
    "correlation_coefficient"
   ]
  },
  {
   "cell_type": "code",
   "execution_count": 85,
   "id": "b3479e10",
   "metadata": {},
   "outputs": [
    {
     "name": "stdout",
     "output_type": "stream",
     "text": [
      "Correlation Coefficient: 0.9779485966556016\n",
      "Significance Test (1% level of significance)\n",
      "t-value: 46.35573256849114\n",
      "p-value: 0.0\n"
     ]
    }
   ],
   "source": [
    "from scipy import stats\n",
    "# Correlation coefficient and significance\n",
    "correlation_coefficient = df[' Blood Pressure Before (mmHg)'].corr(df[' Blood Pressure After (mmHg)'])\n",
    "\n",
    "# Significance test\n",
    "n = len(df)  # Sample size\n",
    "degree_of_freedom = n - 2  # Degrees of freedom\n",
    "alpha = 0.01  # Significance level\n",
    "\n",
    "t_critical = stats.t.ppf(1 - alpha / 2, degree_of_freedom)  # Critical value for t-test\n",
    "standard_error = (1 - correlation_coefficient ** 2) ** 0.5 / (n - 2) ** 0.5  # Standard error\n",
    "\n",
    "t_value = correlation_coefficient / standard_error  # t-value\n",
    "p_value = 2 * (1 - stats.t.cdf(abs(t_value), degree_of_freedom))  # Two-tailed p-value\n",
    "\n",
    "print(\"Correlation Coefficient:\", correlation_coefficient)\n",
    "print(\"Significance Test (1% level of significance)\")\n",
    "print(\"t-value:\", t_value)\n",
    "print(\"p-value:\", p_value)"
   ]
  },
  {
   "cell_type": "markdown",
   "id": "8a7772aa",
   "metadata": {},
   "source": [
    "Q-4. A group of 20 friends decide to play a game in which they each write a number\n",
    "between 1 and 20 on a slip of paper and put it into a hat. They then draw one slip of paper\n",
    "at random. What is the probability that the number on the slip of paper is a perfect square\n",
    "(i.e., 1, 4, 9, or 16)?"
   ]
  },
  {
   "cell_type": "code",
   "execution_count": 87,
   "id": "cf1732b1",
   "metadata": {},
   "outputs": [
    {
     "name": "stdout",
     "output_type": "stream",
     "text": [
      "probablity of the number on the slip of paper is perfect square is: 0.2\n"
     ]
    }
   ],
   "source": [
    "#Favorable outcomes: There are 4 perfect square numbers between 1 and 20 (1, 4, 9, and 16).\n",
    "favorable_outcomes=4\n",
    "\n",
    "#Total outcomes: There are 20 slips of paper in the hat, each containing a number from 1 to 20.\n",
    "total_outcomes=20\n",
    "\n",
    "Probability = favorable_outcomes / total_outcomes\n",
    "print(f\"probablity of the number on the slip of paper is perfect square is:\",Probability)"
   ]
  },
  {
   "cell_type": "markdown",
   "id": "27c3d080",
   "metadata": {},
   "source": [
    "Q-5. A certain city has two taxi companies: Company A has 80% of the taxis and\n",
    "Company B has 20% of the taxis. Company A's taxis have a 95% success rate for picking\n",
    "up passengers on time, while Company B's taxis have a 90% success rate. If a randomly\n",
    "selected taxi is late, what is the probability that it belongs to Company A?"
   ]
  },
  {
   "cell_type": "markdown",
   "id": "4b8c9e92",
   "metadata": {},
   "source": [
    "To calculate the probability that a randomly selected late taxi belongs to Company A, we can use Bayes' theorem.\n",
    "\n",
    "Let's define the following events: A: Taxi belongs to Company A B: Taxi is late\n",
    "\n",
    "We are given the following probabilities: P(A) = 0.8 (Company A has 80% of the taxis) P(B|A) = 0.05 (Company A's taxis have a 95% success rate for picking up passengers on time) P(B|not A) = 0.1 (Company B's taxis have a 90% success rate for picking up passengers on time)\n",
    "\n",
    "We want to calculate P(A|B), which is the probability that the taxi belongs to Company A given that it is late.\n",
    "\n",
    "According to Bayes' theorem: P(A|B) = (P(B|A) * P(A)) / P(B)\n",
    "\n",
    "To calculate P(B), we can use the law of total probability: P(B) = P(B|A) * P(A) + P(B|not A) * P(not A)\n",
    "\n",
    "P(not A) = 1 - P(A) (probability that the taxi does not belong to Company A)\n",
    "\n",
    "Now we can substitute the values and calculate the probability: P(B) = (0.05 * 0.8) + (0.1 * 0.2) = 0.04 + 0.02 = 0.06\n",
    "\n",
    "P(A|B) = (0.05 * 0.8) / 0.06 = 0.04 / 0.06 = 2/3 = 0.67\n",
    "\n",
    "Therefore, the probability that a randomly selected late taxi belongs to Company A is 2/3 or approximately 0.67."
   ]
  },
  {
   "cell_type": "markdown",
   "id": "94e1f1fc",
   "metadata": {},
   "source": [
    "Q-6. A pharmaceutical company is developing a drug that is supposed to reduce blood\n",
    "pressure. They conduct a clinical trial with 100 patients and record their blood\n",
    "pressure before and after taking the drug. The company wants to know if the change\n",
    "in blood pressure follows a normal distribution.\n",
    "\n",
    "https://drive.google.com/file/d/1mCjtYHiX--mMUjicuaP2gH3k-SnFxt8Y/view?usp=share_"
   ]
  },
  {
   "cell_type": "code",
   "execution_count": 88,
   "id": "58af504a",
   "metadata": {},
   "outputs": [
    {
     "data": {
      "text/html": [
       "<div>\n",
       "<style scoped>\n",
       "    .dataframe tbody tr th:only-of-type {\n",
       "        vertical-align: middle;\n",
       "    }\n",
       "\n",
       "    .dataframe tbody tr th {\n",
       "        vertical-align: top;\n",
       "    }\n",
       "\n",
       "    .dataframe thead th {\n",
       "        text-align: right;\n",
       "    }\n",
       "</style>\n",
       "<table border=\"1\" class=\"dataframe\">\n",
       "  <thead>\n",
       "    <tr style=\"text-align: right;\">\n",
       "      <th></th>\n",
       "      <th>Patient ID</th>\n",
       "      <th>Blood Pressure Before (mmHg)</th>\n",
       "      <th>Blood Pressure After (mmHg)</th>\n",
       "    </tr>\n",
       "  </thead>\n",
       "  <tbody>\n",
       "    <tr>\n",
       "      <th>0</th>\n",
       "      <td>1</td>\n",
       "      <td>130</td>\n",
       "      <td>120</td>\n",
       "    </tr>\n",
       "    <tr>\n",
       "      <th>1</th>\n",
       "      <td>2</td>\n",
       "      <td>142</td>\n",
       "      <td>135</td>\n",
       "    </tr>\n",
       "    <tr>\n",
       "      <th>2</th>\n",
       "      <td>3</td>\n",
       "      <td>120</td>\n",
       "      <td>118</td>\n",
       "    </tr>\n",
       "    <tr>\n",
       "      <th>3</th>\n",
       "      <td>4</td>\n",
       "      <td>135</td>\n",
       "      <td>127</td>\n",
       "    </tr>\n",
       "    <tr>\n",
       "      <th>4</th>\n",
       "      <td>5</td>\n",
       "      <td>148</td>\n",
       "      <td>140</td>\n",
       "    </tr>\n",
       "  </tbody>\n",
       "</table>\n",
       "</div>"
      ],
      "text/plain": [
       "   Patient ID   Blood Pressure Before (mmHg)   Blood Pressure After (mmHg)\n",
       "0           1                            130                           120\n",
       "1           2                            142                           135\n",
       "2           3                            120                           118\n",
       "3           4                            135                           127\n",
       "4           5                            148                           140"
      ]
     },
     "execution_count": 88,
     "metadata": {},
     "output_type": "execute_result"
    }
   ],
   "source": [
    "import pandas as pd\n",
    "\n",
    "df=pd.read_csv(\"data.csv\")\n",
    "df.head()"
   ]
  },
  {
   "cell_type": "code",
   "execution_count": 89,
   "id": "b2a5db6d",
   "metadata": {},
   "outputs": [],
   "source": [
    "change_in_bp = df[' Blood Pressure After (mmHg)'] - df[' Blood Pressure Before (mmHg)']"
   ]
  },
  {
   "cell_type": "code",
   "execution_count": 94,
   "id": "095123d3",
   "metadata": {},
   "outputs": [],
   "source": [
    "statistic, p_value = stats.shapiro(change_in_bp)"
   ]
  },
  {
   "cell_type": "code",
   "execution_count": 95,
   "id": "95d938ef",
   "metadata": {},
   "outputs": [
    {
     "data": {
      "text/plain": [
       "0.0014939684187993407"
      ]
     },
     "execution_count": 95,
     "metadata": {},
     "output_type": "execute_result"
    }
   ],
   "source": [
    "p_value"
   ]
  },
  {
   "cell_type": "code",
   "execution_count": 100,
   "id": "c91588a3",
   "metadata": {},
   "outputs": [
    {
     "name": "stdout",
     "output_type": "stream",
     "text": [
      "The change in blood pressure does not follow a normal distribution (reject the null hypothesis)\n"
     ]
    }
   ],
   "source": [
    "alpha=0.05 #As confidence interval is not given taking default as 95%\n",
    "\n",
    "#define Ho: change in bp follows normal distribution\n",
    "#H1: change in bp does not follow normal distribution\n",
    "\n",
    "if alpha < p_value:\n",
    "    print(\"The change in blood pressure follows a normal distribution (fail to reject the null hypothesis)\")\n",
    "else:\n",
    "    print(\"The change in blood pressure does not follow a normal distribution (reject the null hypothesis)\")"
   ]
  },
  {
   "cell_type": "markdown",
   "id": "7c406bf3",
   "metadata": {},
   "source": [
    "Q-7. The equations of two lines of regression, obtained in a correlation analysis\n",
    "between variables X and Y are as follows:\n",
    "\n",
    "and . 2X + 3 − 8 = 0 2Y + X − 5 = 0 The variance of X = 4 Find the\n",
    "\n",
    "a. Variance of Y\n",
    "\n",
    "b. Coefficient of determination of C and Y\n",
    "\n",
    "c. Standard error of estimate of X on Y and of Y on X."
   ]
  },
  {
   "cell_type": "code",
   "execution_count": null,
   "id": "6f3af2c4",
   "metadata": {},
   "outputs": [],
   "source": [
    "##later"
   ]
  },
  {
   "cell_type": "markdown",
   "id": "f80bf7e4",
   "metadata": {},
   "source": [
    "Q-8. The anxiety levels of 10 participants were measured before and after a new therapy.\n",
    "The scores are not normally distributed. Use the Wilcoxon signed-rank test to test whether\n",
    "the therapy had a significant effect on anxiety levels. The data is given below: Participant\n",
    "Before therapy After therapy Difference"
   ]
  },
  {
   "cell_type": "code",
   "execution_count": 106,
   "id": "4ffb9365",
   "metadata": {},
   "outputs": [],
   "source": [
    "df = pd.DataFrame({\n",
    "    \"Participant\":[1,2,3,4,5,6,7,8,9,10],\n",
    "    \"before_therapy\":[10, 8, 12, 15, 6, 9, 11, 7, 14, 10],\n",
    "    \"after_therapy\" :[7, 6, 10, 12, 5, 8, 9, 6, 12, 8],\n",
    "    \"difference\" :[-3, -2, -2, -3, -1, -1, -2, -1, -2, -2]\n",
    "})"
   ]
  },
  {
   "cell_type": "code",
   "execution_count": 107,
   "id": "372cbf7d",
   "metadata": {},
   "outputs": [
    {
     "data": {
      "text/html": [
       "<div>\n",
       "<style scoped>\n",
       "    .dataframe tbody tr th:only-of-type {\n",
       "        vertical-align: middle;\n",
       "    }\n",
       "\n",
       "    .dataframe tbody tr th {\n",
       "        vertical-align: top;\n",
       "    }\n",
       "\n",
       "    .dataframe thead th {\n",
       "        text-align: right;\n",
       "    }\n",
       "</style>\n",
       "<table border=\"1\" class=\"dataframe\">\n",
       "  <thead>\n",
       "    <tr style=\"text-align: right;\">\n",
       "      <th></th>\n",
       "      <th>Participant</th>\n",
       "      <th>before_therapy</th>\n",
       "      <th>after_therapy</th>\n",
       "      <th>difference</th>\n",
       "    </tr>\n",
       "  </thead>\n",
       "  <tbody>\n",
       "    <tr>\n",
       "      <th>0</th>\n",
       "      <td>1</td>\n",
       "      <td>10</td>\n",
       "      <td>7</td>\n",
       "      <td>-3</td>\n",
       "    </tr>\n",
       "    <tr>\n",
       "      <th>1</th>\n",
       "      <td>2</td>\n",
       "      <td>8</td>\n",
       "      <td>6</td>\n",
       "      <td>-2</td>\n",
       "    </tr>\n",
       "    <tr>\n",
       "      <th>2</th>\n",
       "      <td>3</td>\n",
       "      <td>12</td>\n",
       "      <td>10</td>\n",
       "      <td>-2</td>\n",
       "    </tr>\n",
       "    <tr>\n",
       "      <th>3</th>\n",
       "      <td>4</td>\n",
       "      <td>15</td>\n",
       "      <td>12</td>\n",
       "      <td>-3</td>\n",
       "    </tr>\n",
       "    <tr>\n",
       "      <th>4</th>\n",
       "      <td>5</td>\n",
       "      <td>6</td>\n",
       "      <td>5</td>\n",
       "      <td>-1</td>\n",
       "    </tr>\n",
       "    <tr>\n",
       "      <th>5</th>\n",
       "      <td>6</td>\n",
       "      <td>9</td>\n",
       "      <td>8</td>\n",
       "      <td>-1</td>\n",
       "    </tr>\n",
       "    <tr>\n",
       "      <th>6</th>\n",
       "      <td>7</td>\n",
       "      <td>11</td>\n",
       "      <td>9</td>\n",
       "      <td>-2</td>\n",
       "    </tr>\n",
       "    <tr>\n",
       "      <th>7</th>\n",
       "      <td>8</td>\n",
       "      <td>7</td>\n",
       "      <td>6</td>\n",
       "      <td>-1</td>\n",
       "    </tr>\n",
       "    <tr>\n",
       "      <th>8</th>\n",
       "      <td>9</td>\n",
       "      <td>14</td>\n",
       "      <td>12</td>\n",
       "      <td>-2</td>\n",
       "    </tr>\n",
       "    <tr>\n",
       "      <th>9</th>\n",
       "      <td>10</td>\n",
       "      <td>10</td>\n",
       "      <td>8</td>\n",
       "      <td>-2</td>\n",
       "    </tr>\n",
       "  </tbody>\n",
       "</table>\n",
       "</div>"
      ],
      "text/plain": [
       "   Participant  before_therapy  after_therapy  difference\n",
       "0            1              10              7          -3\n",
       "1            2               8              6          -2\n",
       "2            3              12             10          -2\n",
       "3            4              15             12          -3\n",
       "4            5               6              5          -1\n",
       "5            6               9              8          -1\n",
       "6            7              11              9          -2\n",
       "7            8               7              6          -1\n",
       "8            9              14             12          -2\n",
       "9           10              10              8          -2"
      ]
     },
     "execution_count": 107,
     "metadata": {},
     "output_type": "execute_result"
    }
   ],
   "source": [
    "df"
   ]
  },
  {
   "cell_type": "code",
   "execution_count": 108,
   "id": "2b669f15",
   "metadata": {},
   "outputs": [],
   "source": [
    "# Wilcoxon signed-rank test to test whether the therapy had a significant effect on anxiety levels\n",
    "import scipy.stats as stats\n",
    "\n",
    "statistics, p_value = stats.wilcoxon(df[\"difference\"])\n"
   ]
  },
  {
   "cell_type": "code",
   "execution_count": 109,
   "id": "7085f681",
   "metadata": {},
   "outputs": [
    {
     "data": {
      "text/plain": [
       "0.001953125"
      ]
     },
     "execution_count": 109,
     "metadata": {},
     "output_type": "execute_result"
    }
   ],
   "source": [
    "p_value"
   ]
  },
  {
   "cell_type": "code",
   "execution_count": 110,
   "id": "465f0423",
   "metadata": {},
   "outputs": [
    {
     "name": "stdout",
     "output_type": "stream",
     "text": [
      "The therapy has no significant effect on the anxiety levels\n"
     ]
    }
   ],
   "source": [
    "alpha=0.05 #As confidence interval is not given taking default as 95%\n",
    "\n",
    "#define Ho: The therapy has a significant effect on the anxiety levels\n",
    "#H1: The therapy has no significant effect on the anxiety levels\n",
    "\n",
    "if alpha < p_value:\n",
    "    print(\"The therapy has a significant effect on the anxiety levels\")\n",
    "else:\n",
    "    print(\"The therapy has no significant effect on the anxiety levels\")"
   ]
  },
  {
   "cell_type": "markdown",
   "id": "ce66a62e",
   "metadata": {},
   "source": [
    "Que:9 Name Exam 1 Exam 2 Final Exam Karan 85 90 92 Deepa 70 80 85 Karthik 90 85 88 Chandan 75 70 75 Jeevan 95 92 96\n",
    "\n",
    "Test the hypothesis that the mean scores of all the students are the same. If not, name the student with the highest score."
   ]
  },
  {
   "cell_type": "code",
   "execution_count": 111,
   "id": "6d1459bf",
   "metadata": {},
   "outputs": [
    {
     "name": "stdout",
     "output_type": "stream",
     "text": [
      "ANOVA test:\n",
      "F-statistic: 0.3236947791164659\n",
      "p-value: 0.7295954253321559\n"
     ]
    }
   ],
   "source": [
    "import pandas as pd\n",
    "import scipy.stats as stats\n",
    "\n",
    "# Data\n",
    "data = {\n",
    "    'Name': ['Karan', 'Deepa', 'Karthik', 'Chandan', 'Jeevan'],\n",
    "    'Exam 1': [85, 70, 90, 75, 95],\n",
    "    'Exam 2': [90, 80, 85, 70, 92],\n",
    "    'Final Exam': [92, 85, 88, 75, 96]\n",
    "}\n",
    "\n",
    "df = pd.DataFrame(data)\n",
    "\n",
    "# Perform ANOVA test\n",
    "f_statistic, p_value = stats.f_oneway(df['Exam 1'], df['Exam 2'], df['Final Exam'])\n",
    "\n",
    "# Print the results\n",
    "print(\"ANOVA test:\")\n",
    "print(\"F-statistic:\", f_statistic)\n",
    "print(\"p-value:\", p_value)"
   ]
  },
  {
   "cell_type": "markdown",
   "id": "e0b64569",
   "metadata": {},
   "source": [
    "Q-10. A factory produces light bulbs, and the probability of a bulb being defective is 0.05.\n",
    "The factory produces a large batch of 500 light bulbs.\n",
    "\n",
    "a. What is the probability that exactly 20 bulbs are defective?\n",
    "\n",
    "b. What is the probability that at least 10 bulbs are defective?\n",
    "\n",
    "c. What is the probability that at max 15 bulbs are defective?\\\n",
    "\n",
    "d. On average, how many defective bulbs would you expect in a batch of 500?"
   ]
  },
  {
   "cell_type": "code",
   "execution_count": 123,
   "id": "bdd36a92",
   "metadata": {},
   "outputs": [
    {
     "name": "stdout",
     "output_type": "stream",
     "text": [
      "The probability that exactly 20 bulbs are defective: 5.16 %\n"
     ]
    }
   ],
   "source": [
    "from scipy import stats\n",
    "\n",
    "# a. What is the probability that exactly 20 bulbs are defective?\n",
    "n=500\n",
    "p=0.05\n",
    "k =20\n",
    "Bi = stats.binom(n,p)\n",
    "probablity_of_exactly_20 = Bi.pmf(k)\n",
    "print(f\"The probability that exactly 20 bulbs are defective:\",round(probablity_of_exactly_20*100,2),\"%\")"
   ]
  },
  {
   "cell_type": "code",
   "execution_count": 124,
   "id": "796995c2",
   "metadata": {},
   "outputs": [
    {
     "name": "stdout",
     "output_type": "stream",
     "text": [
      "The probability of atleast 10 are defective: 99.95 %\n"
     ]
    }
   ],
   "source": [
    "# b. What is the probability that at least 10 bulbs are defective?\n",
    "x = Bi.cdf(10)\n",
    "probablity_of_atlest_10 = (1-x)\n",
    "print(f\"The probability of atleast 10 are defective:\",round(probablity_of_atlest_10*100,2),\"%\")"
   ]
  },
  {
   "cell_type": "code",
   "execution_count": 125,
   "id": "1d2c6fcc",
   "metadata": {},
   "outputs": [
    {
     "name": "stdout",
     "output_type": "stream",
     "text": [
      "The probability of max 15 are defective: 1.99 %\n"
     ]
    }
   ],
   "source": [
    "#c. What is the probability that at max 15 bulbs are defective?\n",
    "x = Bi.cdf(15)\n",
    "probablity_of_max_15 = x\n",
    "print(f\"The probability of max 15 are defective:\",round(probablity_of_max_15*100,2),\"%\")"
   ]
  },
  {
   "cell_type": "code",
   "execution_count": 127,
   "id": "e9a17577",
   "metadata": {},
   "outputs": [
    {
     "name": "stdout",
     "output_type": "stream",
     "text": [
      "The average number of defective bulbs: 25.0\n"
     ]
    }
   ],
   "source": [
    "# d. On average, how many defective bulbs would you expect in a batch of 500?\n",
    "\n",
    "expected_defective_bulbs = n * p\n",
    "print(f\"The average number of defective bulbs:\",expected_defective_bulbs)"
   ]
  },
  {
   "cell_type": "markdown",
   "id": "84018ecf",
   "metadata": {},
   "source": [
    "Q-11. Given the data of a feature contributing to different classes\n",
    "\n",
    "https://drive.google.com/file/d/1mCjtYHiX--mMUjicuaP2gH3k-SnFxt8Y/view?usp\n",
    "=share_\n",
    "\n",
    "a. Check whether the distribution of all the classes are the same or not.\n",
    "\n",
    "b. Check for the equality of variance.\n",
    "\n",
    "c. Which amount LDA and QDA would perform better on this data for\n",
    "classification and why.\n",
    "\n",
    "d. Check the equality of mean for between all the classes."
   ]
  },
  {
   "cell_type": "code",
   "execution_count": 128,
   "id": "5dc7e982",
   "metadata": {},
   "outputs": [],
   "source": [
    "import pandas as pd\n",
    "from scipy.stats import f_oneway\n",
    "\n",
    "df = pd.read_csv(\"data.csv\")"
   ]
  },
  {
   "cell_type": "code",
   "execution_count": 129,
   "id": "8ea4385e",
   "metadata": {},
   "outputs": [
    {
     "name": "stdout",
     "output_type": "stream",
     "text": [
      "The distribution of classes is not the same.\n"
     ]
    }
   ],
   "source": [
    "# a. Check whether the distribution of all the classes are the same or not.\n",
    "anova_result = f_oneway(df[' Blood Pressure Before (mmHg)'], df[' Blood Pressure After (mmHg)'])\n",
    "if anova_result.pvalue < 0.05:\n",
    "    print(\"The distribution of classes is not the same.\")\n",
    "else:\n",
    "    print(\"The distribution of classes is the same.\")"
   ]
  },
  {
   "cell_type": "code",
   "execution_count": 131,
   "id": "9dc4bf0d",
   "metadata": {},
   "outputs": [
    {
     "name": "stdout",
     "output_type": "stream",
     "text": [
      "The variances are equal.\n"
     ]
    }
   ],
   "source": [
    "import scipy.stats as stats\n",
    "statistic, p_value = stats.bartlett(df[' Blood Pressure Before (mmHg)'], df[' Blood Pressure After (mmHg)'])\n",
    "if p_value < 0.05:\n",
    "    print(\"The variances are not equal.\")\n",
    "else:\n",
    "    print(\"The variances are equal.\")"
   ]
  },
  {
   "cell_type": "code",
   "execution_count": 132,
   "id": "a6232fa6",
   "metadata": {},
   "outputs": [
    {
     "name": "stdout",
     "output_type": "stream",
     "text": [
      "The means are not equal for all classes.\n"
     ]
    }
   ],
   "source": [
    "# d. Check the equality of mean for between all the classes\n",
    "class_a_mean = df[' Blood Pressure Before (mmHg)'].mean()\n",
    "class_b_mean = df[' Blood Pressure After (mmHg)'].mean()\n",
    "\n",
    "\n",
    "if class_a_mean == class_b_mean :\n",
    "    print(\"The means are equal for all classes.\")\n",
    "else:\n",
    "    print(\"The means are not equal for all classes.\")"
   ]
  },
  {
   "cell_type": "markdown",
   "id": "b6735beb",
   "metadata": {},
   "source": [
    "Q-12. A pharmaceutical company develops a new drug and wants to compare its\n",
    "effectiveness against a standard drug for treating a particular condition. They conduct a\n",
    "study with two groups: Group A receives the new drug, and Group B receives the standard\n",
    "drug. The company measures the improvement in a specific symptom for both groups after\n",
    "a 4-week treatment period.\n",
    "\n",
    "a. The company collects data from 30 patients in each group and calculates the\n",
    "mean improvement score and the standard deviation of improvement for each\n",
    "group. The mean improvement score for Group A is 2.5 with a standard\n",
    "deviation of 0.8, while the mean improvement score for Group B is 2.2 with a\n",
    "standard deviation of 0.6. Conduct a t-test to determine if there is a significant\n",
    "difference in the mean improvement scores between the two groups. Use a\n",
    "significance level of 0.05.\n",
    "\n",
    "b. Based on the t-test results, state whether the null hypothesis should be\n",
    "rejected or not. Provide a conclusion in the context of the study."
   ]
  },
  {
   "cell_type": "code",
   "execution_count": 133,
   "id": "f6e0cea4",
   "metadata": {},
   "outputs": [
    {
     "name": "stdout",
     "output_type": "stream",
     "text": [
      "Fail to reject the null hypothesis.\n",
      "There is no significant difference in the mean improvement scores between Group A and Group B.\n"
     ]
    }
   ],
   "source": [
    "import scipy.stats as stats\n",
    "\n",
    "mean_A = 2.5\n",
    "std_deviation_A = 0.8\n",
    "n_A = 30\n",
    "\n",
    "mean_B = 2.2\n",
    "std_deviation_B = 0.6\n",
    "n_B = 30\n",
    "\n",
    "# Calculate the t-value and p-value\n",
    "t_value, p_value = stats.ttest_ind_from_stats(mean_A, std_deviation_A, n_A, mean_B, std_deviation_B, n_B)\n",
    "\n",
    "# Compare the p-value with the significance level\n",
    "significance_level = 0.05\n",
    "if p_value < significance_level:\n",
    "    print(\"Reject the null hypothesis.\")\n",
    "else:\n",
    "    print(\"Fail to reject the null hypothesis.\")\n",
    "\n",
    "# Provide a conclusion\n",
    "if p_value < significance_level:\n",
    "    print(\"There is a significant difference in the mean improvement scores between Group A and Group B.\")\n",
    "else:\n",
    "    print(\"There is no significant difference in the mean improvement scores between Group A and Group B.\")"
   ]
  },
  {
   "cell_type": "code",
   "execution_count": null,
   "id": "dd48654e",
   "metadata": {},
   "outputs": [],
   "source": []
  }
 ],
 "metadata": {
  "kernelspec": {
   "display_name": "Python 3",
   "language": "python",
   "name": "python3"
  },
  "language_info": {
   "codemirror_mode": {
    "name": "ipython",
    "version": 3
   },
   "file_extension": ".py",
   "mimetype": "text/x-python",
   "name": "python",
   "nbconvert_exporter": "python",
   "pygments_lexer": "ipython3",
   "version": "3.9.13"
  }
 },
 "nbformat": 4,
 "nbformat_minor": 5
}
